{
 "cells": [
  {
   "cell_type": "markdown",
   "id": "2282e464",
   "metadata": {},
   "source": [
    "## <ins>Introduction</ins>\n",
    "<br>\n",
    "\n",
    "<details>\n",
    "    <summary> How to use Markdown(click here)</summary>\n",
    "    https://www.geeksforgeeks.org/markdown-cell-in-jupyter-notebook/\n",
    "</details>"
   ]
  },
  {
   "cell_type": "code",
   "execution_count": 1,
   "id": "05d7c5bd",
   "metadata": {},
   "outputs": [],
   "source": [
    "class Person:\n",
    "    pass"
   ]
  },
  {
   "cell_type": "code",
   "execution_count": 2,
   "id": "36a904bd",
   "metadata": {},
   "outputs": [
    {
     "data": {
      "text/plain": [
       "type"
      ]
     },
     "execution_count": 2,
     "metadata": {},
     "output_type": "execute_result"
    }
   ],
   "source": [
    "type(Person)"
   ]
  },
  {
   "cell_type": "code",
   "execution_count": 3,
   "id": "f2ad2a6b",
   "metadata": {},
   "outputs": [
    {
     "data": {
      "text/plain": [
       "type"
      ]
     },
     "execution_count": 3,
     "metadata": {},
     "output_type": "execute_result"
    }
   ],
   "source": [
    "type(type)"
   ]
  },
  {
   "cell_type": "code",
   "execution_count": 4,
   "id": "c6204de8",
   "metadata": {},
   "outputs": [
    {
     "data": {
      "text/plain": [
       "'Person'"
      ]
     },
     "execution_count": 4,
     "metadata": {},
     "output_type": "execute_result"
    }
   ],
   "source": [
    "Person.__name__"
   ]
  },
  {
   "cell_type": "code",
   "execution_count": 5,
   "id": "79c2f7f7",
   "metadata": {},
   "outputs": [],
   "source": [
    "p = Person()  # class is callable"
   ]
  },
  {
   "cell_type": "code",
   "execution_count": 6,
   "id": "948a9c67",
   "metadata": {},
   "outputs": [
    {
     "data": {
      "text/plain": [
       "__main__.Person"
      ]
     },
     "execution_count": 6,
     "metadata": {},
     "output_type": "execute_result"
    }
   ],
   "source": [
    "type(p)"
   ]
  },
  {
   "cell_type": "code",
   "execution_count": 7,
   "id": "512445f3",
   "metadata": {},
   "outputs": [
    {
     "data": {
      "text/plain": [
       "__main__.Person"
      ]
     },
     "execution_count": 7,
     "metadata": {},
     "output_type": "execute_result"
    }
   ],
   "source": [
    "p.__class__"
   ]
  },
  {
   "cell_type": "code",
   "execution_count": 9,
   "id": "de7b07c5",
   "metadata": {},
   "outputs": [
    {
     "data": {
      "text/plain": [
       "'Person'"
      ]
     },
     "execution_count": 9,
     "metadata": {},
     "output_type": "execute_result"
    }
   ],
   "source": [
    "p.__class__.__name__"
   ]
  },
  {
   "cell_type": "code",
   "execution_count": 10,
   "id": "19a92534",
   "metadata": {},
   "outputs": [
    {
     "data": {
      "text/plain": [
       "True"
      ]
     },
     "execution_count": 10,
     "metadata": {},
     "output_type": "execute_result"
    }
   ],
   "source": [
    "isinstance(p, Person)"
   ]
  },
  {
   "cell_type": "markdown",
   "id": "d0e9f1ab",
   "metadata": {},
   "source": [
    "-------------------"
   ]
  },
  {
   "cell_type": "markdown",
   "id": "6e5c9474",
   "metadata": {},
   "source": [
    "## <ins>Defining attributes</ins>"
   ]
  },
  {
   "cell_type": "code",
   "execution_count": 18,
   "id": "ba0d7d86",
   "metadata": {},
   "outputs": [],
   "source": [
    "# Defining Attributes in classes\n",
    "class MyClass:\n",
    "    lang = 'Python' # attribute\n",
    "    version = '3.6' # attribute"
   ]
  },
  {
   "cell_type": "code",
   "execution_count": 19,
   "id": "6a26b03c",
   "metadata": {},
   "outputs": [
    {
     "data": {
      "text/plain": [
       "'Python'"
      ]
     },
     "execution_count": 19,
     "metadata": {},
     "output_type": "execute_result"
    }
   ],
   "source": [
    "# retrieving attribute values from objects\n",
    "# 'getattr' function  -->  getattr(object_symbol, attribute_name, optional_default)\n",
    "\n",
    "# for exmaple\n",
    "\n",
    "getattr(MyClass, 'lang')"
   ]
  },
  {
   "cell_type": "code",
   "execution_count": 20,
   "id": "965b00de",
   "metadata": {},
   "outputs": [
    {
     "ename": "AttributeError",
     "evalue": "type object 'MyClass' has no attribute 'x'",
     "output_type": "error",
     "traceback": [
      "\u001b[1;31m---------------------------------------------------------------------------\u001b[0m",
      "\u001b[1;31mAttributeError\u001b[0m                            Traceback (most recent call last)",
      "\u001b[1;32m<ipython-input-20-baa681df8817>\u001b[0m in \u001b[0;36m<module>\u001b[1;34m\u001b[0m\n\u001b[1;32m----> 1\u001b[1;33m \u001b[0mgetattr\u001b[0m\u001b[1;33m(\u001b[0m\u001b[0mMyClass\u001b[0m\u001b[1;33m,\u001b[0m \u001b[1;34m'x'\u001b[0m\u001b[1;33m)\u001b[0m \u001b[1;31m# here 'x' is not defined in the class\u001b[0m\u001b[1;33m\u001b[0m\u001b[1;33m\u001b[0m\u001b[0m\n\u001b[0m",
      "\u001b[1;31mAttributeError\u001b[0m: type object 'MyClass' has no attribute 'x'"
     ]
    }
   ],
   "source": [
    "getattr(MyClass, 'x') # here 'x' is not defined in the class"
   ]
  },
  {
   "cell_type": "code",
   "execution_count": 21,
   "id": "da791fef",
   "metadata": {},
   "outputs": [
    {
     "name": "stdout",
     "output_type": "stream",
     "text": [
      "N/A\n"
     ]
    }
   ],
   "source": [
    "print(getattr(MyClass, 'x', 'N/A')) # here we set 'default' output of there is no such attribute of 'x'"
   ]
  },
  {
   "cell_type": "code",
   "execution_count": 22,
   "id": "c75fb298",
   "metadata": {},
   "outputs": [
    {
     "data": {
      "text/plain": [
       "'Python'"
      ]
     },
     "execution_count": 22,
     "metadata": {},
     "output_type": "execute_result"
    }
   ],
   "source": [
    "# other approach\n",
    "MyClass.lang"
   ]
  },
  {
   "cell_type": "code",
   "execution_count": 23,
   "id": "9bb91c4b",
   "metadata": {},
   "outputs": [],
   "source": [
    "# setting attribute values in objects\n",
    "\n",
    "# setattr( object_symbol, attribute_name, attribute_value)\n",
    "\n",
    "setattr(MyClass, 'version', '3.7')"
   ]
  },
  {
   "cell_type": "code",
   "execution_count": 24,
   "id": "fcaef033",
   "metadata": {},
   "outputs": [
    {
     "data": {
      "text/plain": [
       "'3.7'"
      ]
     },
     "execution_count": 24,
     "metadata": {},
     "output_type": "execute_result"
    }
   ],
   "source": [
    "MyClass.version"
   ]
  },
  {
   "cell_type": "code",
   "execution_count": 25,
   "id": "61163dc6",
   "metadata": {},
   "outputs": [
    {
     "data": {
      "text/plain": [
       "'3.7'"
      ]
     },
     "execution_count": 25,
     "metadata": {},
     "output_type": "execute_result"
    }
   ],
   "source": [
    "getattr(MyClass, 'version')"
   ]
  },
  {
   "cell_type": "code",
   "execution_count": 26,
   "id": "cb47996e",
   "metadata": {},
   "outputs": [],
   "source": [
    "# to set new attribute by dor method\n",
    "MyClass.x = 100"
   ]
  },
  {
   "cell_type": "code",
   "execution_count": 27,
   "id": "6a60e0cf",
   "metadata": {},
   "outputs": [
    {
     "data": {
      "text/plain": [
       "mappingproxy({'__module__': '__main__',\n",
       "              'lang': 'Python',\n",
       "              'version': '3.7',\n",
       "              '__dict__': <attribute '__dict__' of 'MyClass' objects>,\n",
       "              '__weakref__': <attribute '__weakref__' of 'MyClass' objects>,\n",
       "              '__doc__': None,\n",
       "              'x': 100})"
      ]
     },
     "execution_count": 27,
     "metadata": {},
     "output_type": "execute_result"
    }
   ],
   "source": [
    "MyClass.__dict__"
   ]
  },
  {
   "cell_type": "code",
   "execution_count": 28,
   "id": "ec59d507",
   "metadata": {},
   "outputs": [],
   "source": [
    "# deleting attributes\n",
    "\n",
    "delattr(MyClass, 'x')"
   ]
  },
  {
   "cell_type": "code",
   "execution_count": 29,
   "id": "381a80a6",
   "metadata": {},
   "outputs": [],
   "source": [
    "del MyClass.version"
   ]
  },
  {
   "cell_type": "code",
   "execution_count": 30,
   "id": "49568687",
   "metadata": {},
   "outputs": [
    {
     "data": {
      "text/plain": [
       "mappingproxy({'__module__': '__main__',\n",
       "              'lang': 'Python',\n",
       "              '__dict__': <attribute '__dict__' of 'MyClass' objects>,\n",
       "              '__weakref__': <attribute '__weakref__' of 'MyClass' objects>,\n",
       "              '__doc__': None})"
      ]
     },
     "execution_count": 30,
     "metadata": {},
     "output_type": "execute_result"
    }
   ],
   "source": [
    "MyClass.__dict__"
   ]
  },
  {
   "cell_type": "markdown",
   "id": "20525255",
   "metadata": {},
   "source": [
    "## <ins>Callables"
   ]
  },
  {
   "cell_type": "code",
   "execution_count": 7,
   "id": "bb130d77",
   "metadata": {},
   "outputs": [],
   "source": [
    "class Person:\n",
    "    name = 'Dawood'"
   ]
  },
  {
   "cell_type": "code",
   "execution_count": 8,
   "id": "4f60ed00",
   "metadata": {},
   "outputs": [],
   "source": [
    "setattr(Person, 'POB', 'India')"
   ]
  },
  {
   "cell_type": "code",
   "execution_count": 15,
   "id": "9050cd47",
   "metadata": {},
   "outputs": [
    {
     "name": "stdout",
     "output_type": "stream",
     "text": [
      "Dawood\n",
      "Dawood\n",
      "Dawood\n"
     ]
    }
   ],
   "source": [
    "#1 type of calling callables\n",
    "print(getattr(Person, 'name'))\n",
    "\n",
    "#2 type of calling callables\n",
    "print(Person.__dict__['name'])\n",
    "\n",
    "#3 type of calling callables\n",
    "print(Person.name)"
   ]
  },
  {
   "cell_type": "code",
   "execution_count": 11,
   "id": "e44aadbf",
   "metadata": {},
   "outputs": [],
   "source": [
    "obj = Person()"
   ]
  },
  {
   "cell_type": "code",
   "execution_count": 16,
   "id": "4c064b29",
   "metadata": {},
   "outputs": [],
   "source": [
    "obj.name = 'Basha'"
   ]
  },
  {
   "cell_type": "code",
   "execution_count": 17,
   "id": "04b2b47c",
   "metadata": {},
   "outputs": [
    {
     "name": "stdout",
     "output_type": "stream",
     "text": [
      "Basha\n",
      "Basha\n",
      "Basha\n"
     ]
    }
   ],
   "source": [
    "#1 type of calling callables\n",
    "print(getattr(obj, 'name'))\n",
    "\n",
    "#2 type of calling callables\n",
    "print(obj.__dict__['name'])\n",
    "\n",
    "#3 type of calling callables\n",
    "print(obj.name)"
   ]
  },
  {
   "cell_type": "code",
   "execution_count": 18,
   "id": "c3a7d08d",
   "metadata": {},
   "outputs": [
    {
     "name": "stdout",
     "output_type": "stream",
     "text": [
      "True\n",
      "True\n"
     ]
    }
   ],
   "source": [
    "print(isinstance(obj, Person))\n",
    "print(isinstance(Person, type))"
   ]
  },
  {
   "cell_type": "code",
   "execution_count": 21,
   "id": "9b62bba1",
   "metadata": {},
   "outputs": [
    {
     "name": "stdout",
     "output_type": "stream",
     "text": [
      "False\n"
     ]
    }
   ],
   "source": [
    "print(isinstance(obj, type)) # it should return False since obj's class is Person but not type"
   ]
  },
  {
   "cell_type": "markdown",
   "id": "7631bf9b",
   "metadata": {},
   "source": [
    "## <ins>Data Attributes(i.e not functions)\n",
    "Data attribute is one of the callables together with functions"
   ]
  },
  {
   "cell_type": "code",
   "execution_count": 22,
   "id": "bfb194ed",
   "metadata": {},
   "outputs": [],
   "source": [
    "class MyClass:\n",
    "    language = 'Python'"
   ]
  },
  {
   "cell_type": "code",
   "execution_count": 25,
   "id": "5ec505fd",
   "metadata": {},
   "outputs": [],
   "source": [
    "obj = MyClass()   # creating instance"
   ]
  },
  {
   "cell_type": "code",
   "execution_count": 26,
   "id": "1fa6074d",
   "metadata": {},
   "outputs": [
    {
     "data": {
      "text/plain": [
       "'Python'"
      ]
     },
     "execution_count": 26,
     "metadata": {},
     "output_type": "execute_result"
    }
   ],
   "source": [
    "MyClass.language"
   ]
  },
  {
   "cell_type": "code",
   "execution_count": 27,
   "id": "152b22a6",
   "metadata": {},
   "outputs": [
    {
     "data": {
      "text/plain": [
       "'Python'"
      ]
     },
     "execution_count": 27,
     "metadata": {},
     "output_type": "execute_result"
    }
   ],
   "source": [
    "obj.language  # here intsnce object takes the 'class attribute' i.e language from the class"
   ]
  },
  {
   "cell_type": "code",
   "execution_count": 28,
   "id": "38f83291",
   "metadata": {},
   "outputs": [
    {
     "data": {
      "text/plain": [
       "{}"
      ]
     },
     "execution_count": 28,
     "metadata": {},
     "output_type": "execute_result"
    }
   ],
   "source": [
    "# because it has different name space. when we call the attribute it searches first in its namespace i.e 'obj'\n",
    "# if the attribute is not there, then it searches in class \n",
    "obj.__dict__"
   ]
  },
  {
   "cell_type": "code",
   "execution_count": 29,
   "id": "a941ac04",
   "metadata": {},
   "outputs": [
    {
     "data": {
      "text/plain": [
       "'Java'"
      ]
     },
     "execution_count": 29,
     "metadata": {},
     "output_type": "execute_result"
    }
   ],
   "source": [
    "obj.language = 'Java'\n",
    "obj.language "
   ]
  },
  {
   "cell_type": "code",
   "execution_count": 30,
   "id": "b9593571",
   "metadata": {},
   "outputs": [
    {
     "data": {
      "text/plain": [
       "{'language': 'Java'}"
      ]
     },
     "execution_count": 30,
     "metadata": {},
     "output_type": "execute_result"
    }
   ],
   "source": [
    "obj.__dict__"
   ]
  },
  {
   "cell_type": "markdown",
   "id": "dd898469",
   "metadata": {},
   "source": [
    "## <ins>Functions attributes\n",
    "\n",
    "It is little different to data attribute"
   ]
  },
  {
   "cell_type": "code",
   "execution_count": 32,
   "id": "5f42a5f4",
   "metadata": {},
   "outputs": [],
   "source": [
    "class MyClass:\n",
    "    \n",
    "    def say_hello():\n",
    "        return f\"Hello World!\""
   ]
  },
  {
   "cell_type": "code",
   "execution_count": 33,
   "id": "1ace5689",
   "metadata": {},
   "outputs": [],
   "source": [
    "obj = MyClass()"
   ]
  },
  {
   "cell_type": "code",
   "execution_count": 34,
   "id": "f7e39e3c",
   "metadata": {},
   "outputs": [
    {
     "data": {
      "text/plain": [
       "<function __main__.MyClass.say_hello()>"
      ]
     },
     "execution_count": 34,
     "metadata": {},
     "output_type": "execute_result"
    }
   ],
   "source": [
    "MyClass.say_hello"
   ]
  },
  {
   "cell_type": "code",
   "execution_count": 35,
   "id": "29d2307c",
   "metadata": {},
   "outputs": [
    {
     "data": {
      "text/plain": [
       "<bound method MyClass.say_hello of <__main__.MyClass object at 0x000001EEFDCCCA60>>"
      ]
     },
     "execution_count": 35,
     "metadata": {},
     "output_type": "execute_result"
    }
   ],
   "source": [
    "obj.say_hello  # it return the memory location and method is bounded"
   ]
  },
  {
   "cell_type": "code",
   "execution_count": 36,
   "id": "e965fa2c",
   "metadata": {},
   "outputs": [
    {
     "data": {
      "text/plain": [
       "'Hello World!'"
      ]
     },
     "execution_count": 36,
     "metadata": {},
     "output_type": "execute_result"
    }
   ],
   "source": [
    "MyClass.say_hello()"
   ]
  },
  {
   "cell_type": "code",
   "execution_count": 39,
   "id": "68e2a17c",
   "metadata": {},
   "outputs": [
    {
     "ename": "TypeError",
     "evalue": "say_hello() takes 0 positional arguments but 1 was given",
     "output_type": "error",
     "traceback": [
      "\u001b[1;31m---------------------------------------------------------------------------\u001b[0m",
      "\u001b[1;31mTypeError\u001b[0m                                 Traceback (most recent call last)",
      "\u001b[1;32m<ipython-input-39-d2e608382189>\u001b[0m in \u001b[0;36m<module>\u001b[1;34m\u001b[0m\n\u001b[1;32m----> 1\u001b[1;33m \u001b[0mobj\u001b[0m\u001b[1;33m.\u001b[0m\u001b[0msay_hello\u001b[0m\u001b[1;33m(\u001b[0m\u001b[1;33m)\u001b[0m\u001b[1;33m\u001b[0m\u001b[1;33m\u001b[0m\u001b[0m\n\u001b[0m\u001b[0;32m      2\u001b[0m \u001b[1;31m# in the above erroe we see that it takes positional arguments and bound to some object\u001b[0m\u001b[1;33m\u001b[0m\u001b[1;33m\u001b[0m\u001b[1;33m\u001b[0m\u001b[0m\n",
      "\u001b[1;31mTypeError\u001b[0m: say_hello() takes 0 positional arguments but 1 was given"
     ]
    }
   ],
   "source": [
    "obj.say_hello()\n",
    "# in the below error we see that it takes positional arguments and bound to some object"
   ]
  },
  {
   "cell_type": "markdown",
   "id": "49913def",
   "metadata": {},
   "source": [
    "**method** is an actual object type in python\n",
    " - like a function, it is callable\n",
    " - but unlike a function if it **bound** to some object and that object is passed to the method as its first parameter\n",
    "<br>\n",
    "<br> \n",
    "\n",
    "```my_obj.say_hello()``` \n",
    "> --> say_hello is a **method** object<br>\n",
    "> --> It is **bound** to **my_obj**<br>\n",
    "> --> when **my_obj.say_hello** is called, the bound object **my_obj** is ***injected*** as the first parameter to the method say_hello\n",
    "<br>\n",
    "\n",
    "so it's essentially calling this: ```MyClass.say_hello(my_obj)```\n",
    "> --> but there is more to it than just calling the function this way - **method object**\n",
    "<br>\n",
    "\n",
    "One advantage of this is that **say_hello** now has a handle to the object's ***namespace***\n",
    " "
   ]
  },
  {
   "cell_type": "code",
   "execution_count": 40,
   "id": "e12b935b",
   "metadata": {},
   "outputs": [
    {
     "data": {
      "text/plain": [
       "'0x1eefdccca60'"
      ]
     },
     "execution_count": 40,
     "metadata": {},
     "output_type": "execute_result"
    }
   ],
   "source": [
    "hex(id(obj))"
   ]
  },
  {
   "cell_type": "code",
   "execution_count": 41,
   "id": "a248b1a8",
   "metadata": {},
   "outputs": [
    {
     "data": {
      "text/plain": [
       "<bound method MyClass.say_hello of <__main__.MyClass object at 0x000001EEFDCCCA60>>"
      ]
     },
     "execution_count": 41,
     "metadata": {},
     "output_type": "execute_result"
    }
   ],
   "source": [
    "obj.say_hello  # it is not a pure function"
   ]
  },
  {
   "cell_type": "code",
   "execution_count": 42,
   "id": "6ea2aa35",
   "metadata": {},
   "outputs": [
    {
     "data": {
      "text/plain": [
       "function"
      ]
     },
     "execution_count": 42,
     "metadata": {},
     "output_type": "execute_result"
    }
   ],
   "source": [
    "type(MyClass.say_hello) # it(obj) is not a function like here"
   ]
  },
  {
   "cell_type": "code",
   "execution_count": 43,
   "id": "cbbef977",
   "metadata": {},
   "outputs": [
    {
     "data": {
      "text/plain": [
       "method"
      ]
     },
     "execution_count": 43,
     "metadata": {},
     "output_type": "execute_result"
    }
   ],
   "source": [
    "type(obj.say_hello) # for example here\n",
    "# method in python; is function that is bound to an object "
   ]
  },
  {
   "cell_type": "code",
   "execution_count": 44,
   "id": "5b4a223d",
   "metadata": {},
   "outputs": [
    {
     "data": {
      "text/plain": [
       "False"
      ]
     },
     "execution_count": 44,
     "metadata": {},
     "output_type": "execute_result"
    }
   ],
   "source": [
    "type(MyClass.say_hello) is type(obj.say_hello)"
   ]
  },
  {
   "cell_type": "code",
   "execution_count": 50,
   "id": "1f911e10",
   "metadata": {},
   "outputs": [],
   "source": [
    "# example\n",
    "\n",
    "class Person:\n",
    "    \n",
    "    def say_hello(*args):\n",
    "        print(\"say_hello args: \", args)"
   ]
  },
  {
   "cell_type": "code",
   "execution_count": 51,
   "id": "e5a397ad",
   "metadata": {},
   "outputs": [
    {
     "name": "stdout",
     "output_type": "stream",
     "text": [
      "say_hello args:  ()\n"
     ]
    }
   ],
   "source": [
    "p = Person()\n",
    "\n",
    "Person.say_hello() # empty args"
   ]
  },
  {
   "cell_type": "code",
   "execution_count": 52,
   "id": "e869be33",
   "metadata": {},
   "outputs": [
    {
     "data": {
      "text/plain": [
       "'0x1eefdccc550'"
      ]
     },
     "execution_count": 52,
     "metadata": {},
     "output_type": "execute_result"
    }
   ],
   "source": [
    "hex(id(p))"
   ]
  },
  {
   "cell_type": "code",
   "execution_count": 53,
   "id": "044245f2",
   "metadata": {},
   "outputs": [
    {
     "name": "stdout",
     "output_type": "stream",
     "text": [
      "say_hello args:  (<__main__.Person object at 0x000001EEFDCCC550>,)\n"
     ]
    }
   ],
   "source": [
    "p.say_hello()"
   ]
  },
  {
   "cell_type": "code",
   "execution_count": 54,
   "id": "4de4120f",
   "metadata": {},
   "outputs": [],
   "source": [
    "# example\n",
    "\n",
    "class Person:\n",
    "    \n",
    "    def set_name(instance_obj, new_name):\n",
    "        instance_obj.name = new_name"
   ]
  },
  {
   "cell_type": "code",
   "execution_count": 55,
   "id": "4db7171b",
   "metadata": {},
   "outputs": [
    {
     "data": {
      "text/plain": [
       "{'name': 'Dawood'}"
      ]
     },
     "execution_count": 55,
     "metadata": {},
     "output_type": "execute_result"
    }
   ],
   "source": [
    "p = Person()\n",
    "\n",
    "p.set_name('Dawood')\n",
    "\n",
    "p.__dict__"
   ]
  },
  {
   "cell_type": "code",
   "execution_count": 57,
   "id": "fde52995",
   "metadata": {},
   "outputs": [
    {
     "name": "stdout",
     "output_type": "stream",
     "text": [
      "{'name': 'Basha'}\n",
      "Basha\n"
     ]
    }
   ],
   "source": [
    "# the above one is also equivalent to \n",
    "Person.set_name(p, 'Basha')\n",
    "\n",
    "print(p.__dict__)\n",
    "print(p.name)"
   ]
  },
  {
   "cell_type": "code",
   "execution_count": 70,
   "id": "e0bd298e",
   "metadata": {},
   "outputs": [],
   "source": [
    "class Person:\n",
    "    \n",
    "    def say_hello(self): # by convention we use 'self'\n",
    "        print(f\"{self} says hello\")"
   ]
  },
  {
   "cell_type": "code",
   "execution_count": 71,
   "id": "ad827537",
   "metadata": {},
   "outputs": [
    {
     "name": "stdout",
     "output_type": "stream",
     "text": [
      "<__main__.Person object at 0x000001EEFDCCCF10> says hello\n"
     ]
    }
   ],
   "source": [
    "p = Person()\n",
    "p.say_hello()"
   ]
  },
  {
   "cell_type": "code",
   "execution_count": 72,
   "id": "c139f464",
   "metadata": {},
   "outputs": [
    {
     "data": {
      "text/plain": [
       "<bound method Person.say_hello of <__main__.Person object at 0x000001EEFDCCCF10>>"
      ]
     },
     "execution_count": 72,
     "metadata": {},
     "output_type": "execute_result"
    }
   ],
   "source": [
    "p.say_hello"
   ]
  },
  {
   "cell_type": "code",
   "execution_count": 73,
   "id": "56733811",
   "metadata": {},
   "outputs": [
    {
     "data": {
      "text/plain": [
       "<bound method Person.say_hello of <__main__.Person object at 0x000001EEFDCCCF10>>"
      ]
     },
     "execution_count": 73,
     "metadata": {},
     "output_type": "execute_result"
    }
   ],
   "source": [
    "m_hello = p.say_hello\n",
    "m_hello"
   ]
  },
  {
   "cell_type": "code",
   "execution_count": 74,
   "id": "b85184d0",
   "metadata": {},
   "outputs": [
    {
     "data": {
      "text/plain": [
       "<function __main__.Person.say_hello(self)>"
      ]
     },
     "execution_count": 74,
     "metadata": {},
     "output_type": "execute_result"
    }
   ],
   "source": [
    "m_hello.__func__"
   ]
  },
  {
   "cell_type": "code",
   "execution_count": 75,
   "id": "4f5e2812",
   "metadata": {},
   "outputs": [
    {
     "data": {
      "text/plain": [
       "<__main__.Person at 0x1eefdcccf10>"
      ]
     },
     "execution_count": 75,
     "metadata": {},
     "output_type": "execute_result"
    }
   ],
   "source": [
    "m_hello.__self__"
   ]
  },
  {
   "cell_type": "code",
   "execution_count": 78,
   "id": "02306efb",
   "metadata": {},
   "outputs": [],
   "source": [
    "# monkey patching\n",
    "\n",
    "Person.do_work = lambda self: f\" do_work called from {self} \""
   ]
  },
  {
   "cell_type": "code",
   "execution_count": 79,
   "id": "42f1a78d",
   "metadata": {},
   "outputs": [
    {
     "data": {
      "text/plain": [
       "<bound method Person.say_hello of <__main__.Person object at 0x000001EEFDCCCF10>>"
      ]
     },
     "execution_count": 79,
     "metadata": {},
     "output_type": "execute_result"
    }
   ],
   "source": [
    "p.say_hello"
   ]
  },
  {
   "cell_type": "code",
   "execution_count": 80,
   "id": "143f397d",
   "metadata": {},
   "outputs": [
    {
     "data": {
      "text/plain": [
       "<bound method <lambda> of <__main__.Person object at 0x000001EEFDCCCF10>>"
      ]
     },
     "execution_count": 80,
     "metadata": {},
     "output_type": "execute_result"
    }
   ],
   "source": [
    "p.do_work"
   ]
  },
  {
   "cell_type": "code",
   "execution_count": 81,
   "id": "0363b07d",
   "metadata": {},
   "outputs": [
    {
     "data": {
      "text/plain": [
       "' do_work called from <__main__.Person object at 0x000001EEFDCCCF10> '"
      ]
     },
     "execution_count": 81,
     "metadata": {},
     "output_type": "execute_result"
    }
   ],
   "source": [
    "p.do_work()"
   ]
  },
  {
   "cell_type": "markdown",
   "id": "a05f4935",
   "metadata": {},
   "source": [
    "<div class=\"alert alert-block alert-info\">\n",
    "<b> TIP:<br>Becareful, by adding function directly to instance object, that does not work same; wont work in the class.<br>\n",
    "    Because it will be 'bound' method confined to the instance only.</b>\n",
    "\n",
    "</div>"
   ]
  },
  {
   "cell_type": "code",
   "execution_count": 82,
   "id": "f2a54d1d",
   "metadata": {},
   "outputs": [],
   "source": [
    "# for example\n",
    "\n",
    "p.other_func = lambda *args: f'other_func called with {args}'"
   ]
  },
  {
   "cell_type": "code",
   "execution_count": 84,
   "id": "799838e9",
   "metadata": {},
   "outputs": [
    {
     "data": {
      "text/plain": [
       "<function __main__.<lambda>(*args)>"
      ]
     },
     "execution_count": 84,
     "metadata": {},
     "output_type": "execute_result"
    }
   ],
   "source": [
    "p.other_func # it is a function"
   ]
  },
  {
   "cell_type": "code",
   "execution_count": 86,
   "id": "a1b3f63e",
   "metadata": {},
   "outputs": [
    {
     "data": {
      "text/plain": [
       "'other_func called with ()'"
      ]
     },
     "execution_count": 86,
     "metadata": {},
     "output_type": "execute_result"
    }
   ],
   "source": [
    "p.other_func()"
   ]
  },
  {
   "cell_type": "code",
   "execution_count": 87,
   "id": "aa473f8b",
   "metadata": {},
   "outputs": [
    {
     "data": {
      "text/plain": [
       "{'other_func': <function __main__.<lambda>(*args)>}"
      ]
     },
     "execution_count": 87,
     "metadata": {},
     "output_type": "execute_result"
    }
   ],
   "source": [
    "p.__dict__"
   ]
  },
  {
   "cell_type": "markdown",
   "id": "f53f2fee",
   "metadata": {},
   "source": [
    "## <ins>Initializing Class Instances\n",
    "    \n",
    "    * Creation of object\n",
    "    * Initialization of object"
   ]
  },
  {
   "cell_type": "code",
   "execution_count": 1,
   "id": "057888c8",
   "metadata": {},
   "outputs": [],
   "source": [
    "class Person:\n",
    "    \n",
    "    def __init__(self):\n",
    "        print(f\"Initializing a new Person object: {self}\")"
   ]
  },
  {
   "cell_type": "code",
   "execution_count": 2,
   "id": "190cfa7b",
   "metadata": {},
   "outputs": [
    {
     "name": "stdout",
     "output_type": "stream",
     "text": [
      "Initializing a new Person object: <__main__.Person object at 0x000001B966547A00>\n"
     ]
    }
   ],
   "source": [
    "p = Person()"
   ]
  },
  {
   "cell_type": "code",
   "execution_count": 5,
   "id": "fd634021",
   "metadata": {},
   "outputs": [],
   "source": [
    "class Person:\n",
    "    \n",
    "    def __init__(self, name):\n",
    "        print(f\"Initializing a new Person object: {self}\")\n",
    "        self.name = name"
   ]
  },
  {
   "cell_type": "code",
   "execution_count": 6,
   "id": "61cd0eee",
   "metadata": {},
   "outputs": [
    {
     "name": "stdout",
     "output_type": "stream",
     "text": [
      "Initializing a new Person object: <__main__.Person object at 0x000001B966547C70>\n"
     ]
    }
   ],
   "source": [
    "p = Person('Dawood')  # Here both creating and initializing an object is happening"
   ]
  },
  {
   "cell_type": "code",
   "execution_count": 7,
   "id": "b9c572bd",
   "metadata": {},
   "outputs": [
    {
     "data": {
      "text/plain": [
       "{'name': 'Dawood'}"
      ]
     },
     "execution_count": 7,
     "metadata": {},
     "output_type": "execute_result"
    }
   ],
   "source": [
    "p.__dict__"
   ]
  },
  {
   "cell_type": "code",
   "execution_count": 8,
   "id": "8b6a4567",
   "metadata": {},
   "outputs": [],
   "source": [
    "# Here in this example creating and initializing are happeing step by step\n",
    "\n",
    "class Person:\n",
    "    \n",
    "    def init(self, name):\n",
    "        self.name = name"
   ]
  },
  {
   "cell_type": "code",
   "execution_count": 10,
   "id": "0d1e9823",
   "metadata": {},
   "outputs": [],
   "source": [
    "p = Person() # creating an object"
   ]
  },
  {
   "cell_type": "code",
   "execution_count": 11,
   "id": "a42c1179",
   "metadata": {},
   "outputs": [
    {
     "data": {
      "text/plain": [
       "{'name': 'Basha'}"
      ]
     },
     "execution_count": 11,
     "metadata": {},
     "output_type": "execute_result"
    }
   ],
   "source": [
    "p.init('Basha') # initializing the object by passing argument\n",
    "p.__dict__"
   ]
  },
  {
   "cell_type": "markdown",
   "id": "00826d9c",
   "metadata": {},
   "source": [
    "## <ins> Creating Attributes at Run time</ins>\n",
    "    \n",
    "We know that we can add an data attribute to the instance name space (instance object) directly.<br>\n",
    "***Is it possible to add function(actually method object) attribution to the intance namespace directly but not to class?***"
   ]
  },
  {
   "cell_type": "code",
   "execution_count": 13,
   "id": "c9e2a5c1",
   "metadata": {},
   "outputs": [],
   "source": [
    "class MyClass:\n",
    "    \n",
    "    lang = 'Python'"
   ]
  },
  {
   "cell_type": "code",
   "execution_count": 14,
   "id": "166da5cd",
   "metadata": {},
   "outputs": [],
   "source": [
    "obj = MyClass()"
   ]
  },
  {
   "cell_type": "code",
   "execution_count": 15,
   "id": "0bcab304",
   "metadata": {},
   "outputs": [],
   "source": [
    "obj.say_hello = lambda: 'Hello World!' # adding function attribute directly to instance object"
   ]
  },
  {
   "cell_type": "code",
   "execution_count": 18,
   "id": "3e8ff896",
   "metadata": {},
   "outputs": [
    {
     "data": {
      "text/plain": [
       "<function __main__.<lambda>()>"
      ]
     },
     "execution_count": 18,
     "metadata": {},
     "output_type": "execute_result"
    }
   ],
   "source": [
    "obj.say_hello   # it is a function but not bound method\n",
    "# we know that bound method is created automatically when the method is inside the class"
   ]
  },
  {
   "cell_type": "code",
   "execution_count": 19,
   "id": "2de6ee35",
   "metadata": {},
   "outputs": [
    {
     "data": {
      "text/plain": [
       "function"
      ]
     },
     "execution_count": 19,
     "metadata": {},
     "output_type": "execute_result"
    }
   ],
   "source": [
    "type(obj.say_hello )"
   ]
  },
  {
   "cell_type": "code",
   "execution_count": 20,
   "id": "dd0e1166",
   "metadata": {},
   "outputs": [
    {
     "data": {
      "text/plain": [
       "'Hello World!'"
      ]
     },
     "execution_count": 20,
     "metadata": {},
     "output_type": "execute_result"
    }
   ],
   "source": [
    "obj.say_hello()"
   ]
  },
  {
   "cell_type": "code",
   "execution_count": 21,
   "id": "592938a6",
   "metadata": {},
   "outputs": [
    {
     "data": {
      "text/plain": [
       "{'say_hello': <function __main__.<lambda>()>}"
      ]
     },
     "execution_count": 21,
     "metadata": {},
     "output_type": "execute_result"
    }
   ],
   "source": [
    "obj.__dict__"
   ]
  },
  {
   "cell_type": "code",
   "execution_count": 22,
   "id": "94dd05be",
   "metadata": {},
   "outputs": [],
   "source": [
    "# to create bound method, we create and bind a method to an instance at runtime.\n",
    "\n",
    "class MyClass:\n",
    "    language = 'Python'"
   ]
  },
  {
   "cell_type": "code",
   "execution_count": 23,
   "id": "4d6007bf",
   "metadata": {},
   "outputs": [],
   "source": [
    "obj = MyClass()"
   ]
  },
  {
   "cell_type": "code",
   "execution_count": 24,
   "id": "e5c2d368",
   "metadata": {},
   "outputs": [],
   "source": [
    "from types import MethodType"
   ]
  },
  {
   "cell_type": "code",
   "execution_count": 26,
   "id": "c7960658",
   "metadata": {},
   "outputs": [
    {
     "data": {
      "text/plain": [
       "<bound method <lambda> of <__main__.MyClass object at 0x000001B9666313A0>>"
      ]
     },
     "execution_count": 26,
     "metadata": {},
     "output_type": "execute_result"
    }
   ],
   "source": [
    "# MethodType(function, object)\n",
    "# Here only 'obj' is affected\n",
    "MethodType(lambda self: f'Hello {self.language}!', obj)"
   ]
  },
  {
   "cell_type": "code",
   "execution_count": 27,
   "id": "fd8cf913",
   "metadata": {},
   "outputs": [
    {
     "data": {
      "text/plain": [
       "{}"
      ]
     },
     "execution_count": 27,
     "metadata": {},
     "output_type": "execute_result"
    }
   ],
   "source": [
    "obj.__dict__"
   ]
  },
  {
   "cell_type": "code",
   "execution_count": 28,
   "id": "afe3a974",
   "metadata": {},
   "outputs": [
    {
     "data": {
      "text/plain": [
       "mappingproxy({'__module__': '__main__',\n",
       "              'language': 'Python',\n",
       "              '__dict__': <attribute '__dict__' of 'MyClass' objects>,\n",
       "              '__weakref__': <attribute '__weakref__' of 'MyClass' objects>,\n",
       "              '__doc__': None})"
      ]
     },
     "execution_count": 28,
     "metadata": {},
     "output_type": "execute_result"
    }
   ],
   "source": [
    "MyClass.__dict__"
   ]
  },
  {
   "cell_type": "code",
   "execution_count": 29,
   "id": "0dabc881",
   "metadata": {},
   "outputs": [],
   "source": [
    "# example\n",
    "\n",
    "class Person:\n",
    "    \n",
    "    def __init__(self, name):\n",
    "        self.name = name"
   ]
  },
  {
   "cell_type": "code",
   "execution_count": 30,
   "id": "c3c3ee6d",
   "metadata": {},
   "outputs": [],
   "source": [
    "p1 = Person('Dawood')\n",
    "p2 = Person('Basha')"
   ]
  },
  {
   "cell_type": "code",
   "execution_count": 31,
   "id": "eec7de1a",
   "metadata": {},
   "outputs": [],
   "source": [
    "def say_hello(self):\n",
    "    return f'{self.name} says hello!'"
   ]
  },
  {
   "cell_type": "code",
   "execution_count": 32,
   "id": "d3d6e952",
   "metadata": {},
   "outputs": [
    {
     "data": {
      "text/plain": [
       "'Dawood says hello!'"
      ]
     },
     "execution_count": 32,
     "metadata": {},
     "output_type": "execute_result"
    }
   ],
   "source": [
    "say_hello(p1)"
   ]
  },
  {
   "cell_type": "code",
   "execution_count": 33,
   "id": "61b73d05",
   "metadata": {},
   "outputs": [
    {
     "data": {
      "text/plain": [
       "'Basha says hello!'"
      ]
     },
     "execution_count": 33,
     "metadata": {},
     "output_type": "execute_result"
    }
   ],
   "source": [
    "say_hello(p2)"
   ]
  },
  {
   "cell_type": "code",
   "execution_count": 44,
   "id": "b8a11aab",
   "metadata": {},
   "outputs": [],
   "source": [
    "# how to make it bound method to p1\n",
    "p1.say_hello = MethodType(say_hello, p1)"
   ]
  },
  {
   "cell_type": "code",
   "execution_count": 45,
   "id": "7a38d5b7",
   "metadata": {},
   "outputs": [
    {
     "data": {
      "text/plain": [
       "'Dawood says hello!'"
      ]
     },
     "execution_count": 45,
     "metadata": {},
     "output_type": "execute_result"
    }
   ],
   "source": [
    "p1.say_hello()"
   ]
  },
  {
   "cell_type": "code",
   "execution_count": 46,
   "id": "e9ed4680",
   "metadata": {},
   "outputs": [
    {
     "data": {
      "text/plain": [
       "{'name': 'Dawood',\n",
       " 'say_hello': <bound method say_hello of <__main__.Person object at 0x000001B966631250>>}"
      ]
     },
     "execution_count": 46,
     "metadata": {},
     "output_type": "execute_result"
    }
   ],
   "source": [
    "p1.__dict__"
   ]
  },
  {
   "cell_type": "code",
   "execution_count": 47,
   "id": "6d50ae72",
   "metadata": {},
   "outputs": [
    {
     "data": {
      "text/plain": [
       "{'name': 'Basha'}"
      ]
     },
     "execution_count": 47,
     "metadata": {},
     "output_type": "execute_result"
    }
   ],
   "source": [
    "p2.__dict__"
   ]
  },
  {
   "cell_type": "code",
   "execution_count": 56,
   "id": "89b7f0a2",
   "metadata": {},
   "outputs": [],
   "source": [
    "class Person:\n",
    "    \n",
    "    def __init__(self, name):\n",
    "        self.name = name\n",
    "        \n",
    "    def register_do_work(self, func):\n",
    "        setattr(self, '_do_work', MethodType(func, self))"
   ]
  },
  {
   "cell_type": "code",
   "execution_count": 57,
   "id": "40b43aee",
   "metadata": {},
   "outputs": [],
   "source": [
    "p = Person('Dawood')\n",
    "\n",
    "p.register_do_work(say_hello)"
   ]
  },
  {
   "cell_type": "code",
   "execution_count": 58,
   "id": "eab5ddca",
   "metadata": {},
   "outputs": [
    {
     "data": {
      "text/plain": [
       "{'name': 'Dawood',\n",
       " '_do_work': <bound method say_hello of <__main__.Person object at 0x000001B9665473D0>>}"
      ]
     },
     "execution_count": 58,
     "metadata": {},
     "output_type": "execute_result"
    }
   ],
   "source": [
    "p.__dict__"
   ]
  },
  {
   "cell_type": "code",
   "execution_count": 54,
   "id": "d39fafbd",
   "metadata": {},
   "outputs": [
    {
     "name": "stdout",
     "output_type": "stream",
     "text": [
      "None\n"
     ]
    }
   ],
   "source": [
    "print(p.register_do_work(say_hello))"
   ]
  },
  {
   "cell_type": "code",
   "execution_count": 59,
   "id": "bbb6cfe0",
   "metadata": {},
   "outputs": [
    {
     "data": {
      "text/plain": [
       "'Dawood says hello!'"
      ]
     },
     "execution_count": 59,
     "metadata": {},
     "output_type": "execute_result"
    }
   ],
   "source": [
    "p._do_work()"
   ]
  },
  {
   "cell_type": "code",
   "execution_count": 76,
   "id": "217bd8aa",
   "metadata": {},
   "outputs": [],
   "source": [
    "class Person:\n",
    "    \n",
    "    def __init__(self, name):\n",
    "        self.name = name\n",
    "        \n",
    "    def register_do_work(self, func):\n",
    "        setattr(self, '_do_work', MethodType(func, self))\n",
    "        \n",
    "    def do_work(self):\n",
    "        do_work_method = getattr(self, '_do_work', None)\n",
    "        \n",
    "        if do_work_method:\n",
    "            return do_work_method()\n",
    "        else:\n",
    "            raise AttributeError('You must first register a do_work method.')"
   ]
  },
  {
   "cell_type": "code",
   "execution_count": 77,
   "id": "f94fa8e5",
   "metadata": {},
   "outputs": [],
   "source": [
    "math_teacher = Person('Dawood')\n",
    "eng_teacher = Person('Ola')"
   ]
  },
  {
   "cell_type": "code",
   "execution_count": 78,
   "id": "1176aa82",
   "metadata": {},
   "outputs": [
    {
     "ename": "AttributeError",
     "evalue": "You must first register a do_work method.",
     "output_type": "error",
     "traceback": [
      "\u001b[1;31m---------------------------------------------------------------------------\u001b[0m",
      "\u001b[1;31mAttributeError\u001b[0m                            Traceback (most recent call last)",
      "\u001b[1;32m<ipython-input-78-3270f441d2a0>\u001b[0m in \u001b[0;36m<module>\u001b[1;34m\u001b[0m\n\u001b[1;32m----> 1\u001b[1;33m \u001b[0mmath_teacher\u001b[0m\u001b[1;33m.\u001b[0m\u001b[0mdo_work\u001b[0m\u001b[1;33m(\u001b[0m\u001b[1;33m)\u001b[0m \u001b[1;31m# here register_do_work is not declared\u001b[0m\u001b[1;33m\u001b[0m\u001b[1;33m\u001b[0m\u001b[0m\n\u001b[0m",
      "\u001b[1;32m<ipython-input-76-adab40cfed06>\u001b[0m in \u001b[0;36mdo_work\u001b[1;34m(self)\u001b[0m\n\u001b[0;32m     13\u001b[0m             \u001b[1;32mreturn\u001b[0m \u001b[0mdo_work_method\u001b[0m\u001b[1;33m(\u001b[0m\u001b[1;33m)\u001b[0m\u001b[1;33m\u001b[0m\u001b[1;33m\u001b[0m\u001b[0m\n\u001b[0;32m     14\u001b[0m         \u001b[1;32melse\u001b[0m\u001b[1;33m:\u001b[0m\u001b[1;33m\u001b[0m\u001b[1;33m\u001b[0m\u001b[0m\n\u001b[1;32m---> 15\u001b[1;33m             \u001b[1;32mraise\u001b[0m \u001b[0mAttributeError\u001b[0m\u001b[1;33m(\u001b[0m\u001b[1;34m'You must first register a do_work method.'\u001b[0m\u001b[1;33m)\u001b[0m\u001b[1;33m\u001b[0m\u001b[1;33m\u001b[0m\u001b[0m\n\u001b[0m",
      "\u001b[1;31mAttributeError\u001b[0m: You must first register a do_work method."
     ]
    }
   ],
   "source": [
    "math_teacher.do_work() # here register_do_work is not declared"
   ]
  },
  {
   "cell_type": "code",
   "execution_count": 79,
   "id": "39410e47",
   "metadata": {},
   "outputs": [],
   "source": [
    "def work_math(self):\n",
    "    return f'Prof.{self.name} will tecah geometry today!'"
   ]
  },
  {
   "cell_type": "code",
   "execution_count": 80,
   "id": "1260d0f0",
   "metadata": {},
   "outputs": [],
   "source": [
    "math_teacher.register_do_work(work_math)"
   ]
  },
  {
   "cell_type": "code",
   "execution_count": 81,
   "id": "f59d98bf",
   "metadata": {},
   "outputs": [
    {
     "data": {
      "text/plain": [
       "{'name': 'Dawood',\n",
       " '_do_work': <bound method work_math of <__main__.Person object at 0x000001B96647D400>>}"
      ]
     },
     "execution_count": 81,
     "metadata": {},
     "output_type": "execute_result"
    }
   ],
   "source": [
    "math_teacher.__dict__"
   ]
  },
  {
   "cell_type": "code",
   "execution_count": 82,
   "id": "28754764",
   "metadata": {},
   "outputs": [
    {
     "data": {
      "text/plain": [
       "'Prof.Dawood will tecah geometry today!'"
      ]
     },
     "execution_count": 82,
     "metadata": {},
     "output_type": "execute_result"
    }
   ],
   "source": [
    "math_teacher.do_work()"
   ]
  },
  {
   "cell_type": "code",
   "execution_count": 89,
   "id": "00cd806b",
   "metadata": {},
   "outputs": [],
   "source": [
    "def work_english(self):\n",
    "    return f'{self.name} will anlayse Hamlet today'"
   ]
  },
  {
   "cell_type": "code",
   "execution_count": 90,
   "id": "769739af",
   "metadata": {},
   "outputs": [],
   "source": [
    "eng_teacher.register_do_work(work_english)"
   ]
  },
  {
   "cell_type": "code",
   "execution_count": 91,
   "id": "970d76c3",
   "metadata": {},
   "outputs": [
    {
     "data": {
      "text/plain": [
       "{'name': 'Ola',\n",
       " '_do_work': <bound method work_english of <__main__.Person object at 0x000001B966483700>>}"
      ]
     },
     "execution_count": 91,
     "metadata": {},
     "output_type": "execute_result"
    }
   ],
   "source": [
    "eng_teacher.__dict__"
   ]
  },
  {
   "cell_type": "code",
   "execution_count": 92,
   "id": "7c5fccdd",
   "metadata": {},
   "outputs": [
    {
     "data": {
      "text/plain": [
       "'Ola will anlayse Hamlet today'"
      ]
     },
     "execution_count": 92,
     "metadata": {},
     "output_type": "execute_result"
    }
   ],
   "source": [
    "eng_teacher.do_work()"
   ]
  },
  {
   "cell_type": "code",
   "execution_count": null,
   "id": "7ffebb17",
   "metadata": {},
   "outputs": [],
   "source": [
    "for p in persons:\n",
    "    print(p.)"
   ]
  }
 ],
 "metadata": {
  "kernelspec": {
   "display_name": "Python 3",
   "language": "python",
   "name": "python3"
  },
  "language_info": {
   "codemirror_mode": {
    "name": "ipython",
    "version": 3
   },
   "file_extension": ".py",
   "mimetype": "text/x-python",
   "name": "python",
   "nbconvert_exporter": "python",
   "pygments_lexer": "ipython3",
   "version": "3.8.8"
  }
 },
 "nbformat": 4,
 "nbformat_minor": 5
}
